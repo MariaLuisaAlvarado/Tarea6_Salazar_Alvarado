{
 "cells": [
  {
   "cell_type": "markdown",
   "metadata": {},
   "source": [
    "<img style=\"float: left; margin: 30px 15px 15px 15px;\" src=\"https://pngimage.net/wp-content/uploads/2018/06/logo-iteso-png-5.png\" width=\"300\" height=\"500\" /> \n",
    "    \n",
    "    \n",
    "### <font color='navy'> Simulación de procesos financieros. \n",
    "\n",
    "**Nombres:** Erick Salazar Hernández y María Luisa Alvarado López.\n",
    "\n",
    "**Fecha:** 05 de Marzo del 2020.\n",
    "\n",
    "**Expediente** : if714391 y if715373.\n",
    "**Profesor:** Oscar David Jaramillo Zuluaga.\n",
    "\n",
    "# Tarea 6: Clase 9 y 10\n"
   ]
  },
  {
   "cell_type": "markdown",
   "metadata": {},
   "source": [
    "> ## <font color ='red'>Tarea\n",
    "Seguir un procedimiento similar al mostrado cuando se generó una distribución binomial, pero en esta caso genere un código que genere variables aletorias Poisson cuya función de distribución de probabilidad esta dada por:\n",
    ">$$P(k,\\lambda)=\\frac{e^{-\\lambda}(\\lambda)^k}{k!}$$\n",
    "    \n",
    "> Demuestre matemáticamente que \n",
    "> $$P(k+1)=\\frac{\\lambda}{k+1}P(k)$$\n",
    "> y a partir de esta relación genere variables aletorias que distribuyen poisson usando el método de la transformada inversa."
   ]
  },
  {
   "cell_type": "markdown",
   "metadata": {},
   "source": [
    "## <font color ='mediumpurple'>DEMOSTRACIÓN:\n",
    "\n",
    "$$P(k,\\lambda)=\\frac{e^{-\\lambda}(\\lambda)^k}{k!}$$\n",
    "$$P(k + 1)=\\frac{e^{-\\lambda}(\\lambda)^{k+1}}{(k+1)!}$$\n",
    "$$P(k + 1)=\\frac{e^{-\\lambda}(\\lambda)^{k}\\lambda}{(k+1)k!}$$\n",
    "$$P(k + 1)=\\frac{\\lambda}{(k+1)} P(k,\\lambda) $$"
   ]
  },
  {
   "cell_type": "code",
   "execution_count": null,
   "metadata": {},
   "outputs": [],
   "source": []
  },
  {
   "cell_type": "markdown",
   "metadata": {},
   "source": [
    "# Tarea \n",
    "Partiendo que se desea generar variables aleatorias para la siguiente función de densidad\n",
    "$$f(x)=30(x^2-2x^3+x^4)$$\n",
    "Responda los siguientes literales:\n",
    "1. Usar como función que mayora a $f(x)$ a $t(x)=a \\sin(\\pi x)$ donde a es el máximo de la función $f(x)$ y graficarlas en una misma gráfica, para validar que en realidad si cumple la condición $t(x)\\geq f(x)$.\n"
   ]
  },
  {
   "cell_type": "code",
   "execution_count": 1,
   "metadata": {},
   "outputs": [],
   "source": [
    "from scipy.stats import erlang\n",
    "from scipy import optimize\n",
    "from scipy.stats import beta\n",
    "import matplotlib.pyplot as plt\n",
    "import numpy as np\n",
    "# %matplotlib notebook\n",
    "%matplotlib inline"
   ]
  },
  {
   "cell_type": "code",
   "execution_count": 2,
   "metadata": {},
   "outputs": [
    {
     "name": "stdout",
     "output_type": "stream",
     "text": [
      "Funciones, punto máximo: [1.875]\n"
     ]
    },
    {
     "data": {
      "image/png": "[encoded data removed]",
      "text/plain": [
       "<Figure size 432x288 with 1 Axes>"
      ]
     },
     "metadata": {
      "needs_background": "light"
     },
     "output_type": "display_data"
    }
   ],
   "source": [
    "# Función objetivo \n",
    "f = lambda x:30*(x**2-2*x**3+x**4)\n",
    "# Máximo de la función f\n",
    "max_f = f(optimize.fmin(lambda x:-f(x),0,disp=False)) #AQUI PONGO LA FUNCION QUE A LA QUE QUIERO MAXIMIZAR, SE QUEDA\n",
    "#EL NEGATIVO PORQUE ES .MIN Y NEGATIVO Y NEGATIVO DA POSITIVO\n",
    "# Función t -> Función constante\n",
    "t = lambda x: max_f*np.sin(np.pi*x) # función constante\n",
    "\n",
    "x = np.arange(0,1,0.01)  # Rango donde se graficará las funciones\n",
    "print('Funciones, punto máximo:',max_f)\n",
    "# Gráficas de las funciones\n",
    "plt.plot(x,f(x),label='f(x)')\n",
    "plt.plot(x,t(x),label='t(x)')\n",
    "plt.legend()\n",
    "plt.show()\n"
   ]
  },
  {
   "cell_type": "markdown",
   "metadata": {},
   "source": [
    "2. Encontrar la función de densidad $g(x)$ según lo visto en clase. Reportar todos los cálculos realizados para encontrar dicha función usando Markdown (Latex).\n"
   ]
  },
  {
   "cell_type": "markdown",
   "metadata": {},
   "source": [
    "$$g(x)=\\frac{t(x)}{c}$$\n",
    "$$f(x)=30(x^2-2x^3+x^4)$$\n",
    "$$t(x)=a \\sin(\\pi x)$$\n",
    "\n",
    "$$a=max(f(x))$$\n",
    "\n",
    "$$c=\\int_{0}^{1}a sin(\\pi x)dx$$\n",
    "Sacando a\n",
    "$$c=max(f(x))\\int_{0}^{1} sin(\\pi x)dx$$\n",
    "$$c= max(f(x))* [-\\frac{cos(\\pi y)}{\\pi} ]_{0}^{1} = \\frac{2}{\\pi}max(f(x))$$\n",
    "\n",
    "$$g(x)=\\frac{t(x)}{c}=\\frac{max(f(x)) \\sin(\\pi x)}{\\frac{2}{\\pi}max(f(x))}=\\frac{\\pi sin(\\pi x)}{2}$$\n"
   ]
  },
  {
   "cell_type": "markdown",
   "metadata": {},
   "source": [
    "3. Usar la función encontrada en el punto 2 y utilizar el método de la transformada inversa visto en la clase 9, para generar variables aleatorias que sigan la distribución $g(x)$. **Nota:** Recuerde que el método de la transformada inversa funciona con la distribución de probabilidad acumulada y no con su densidad. Nuevamente similar al punto anterior reportar todos los cálculos usando Markdown (Latex). \n"
   ]
  },
  {
   "cell_type": "markdown",
   "metadata": {},
   "source": [
    "$$G(x)= \\int_{0}^{x} g(x)dx = \\frac{1}{2} \\int_{0}^{x} sin(\\pi x)$$\n",
    "\n",
    "$$G(x)=-\\frac{1}{2} [cos(\\pi x)]^{x}_{0}= \\frac{1}{2} (1-cos(\\pi x))$$\n",
    "\n",
    "$$U= \\frac{1}{2} (1-cos(\\pi x))$$\n",
    "\n",
    "Despejando...\n",
    "\n",
    "$$x=2U=(1-cos(\\pi x)$$\n",
    "\n",
    "$$cos(\\pi x)+2U =1 $$\n",
    "\n",
    "$$cos(\\pi x)=1 - 2U  $$\n",
    "\n",
    "$$\\pi x= arcos(1 - 2U)  $$\n",
    "\n",
    "$$x= \\frac{arcos(1 - 2U)}{\\pi }  $$"
   ]
  },
  {
   "cell_type": "markdown",
   "metadata": {},
   "source": [
    "4. Según el punto 3, generar 10000 puntos aleatorios que sigan la distribución $g(x)$ y comparar con su histograma para validar que los puntos generados siguen la distribución deseada. El resultado debe ser como sigue:\n",
    "![imagen.png](attachment:imagen.png)"
   ]
  },
  {
   "cell_type": "code",
   "execution_count": 4,
   "metadata": {},
   "outputs": [],
   "source": [
    "import scipy.optimize as opt\n",
    "import math"
   ]
  },
  {
   "cell_type": "code",
   "execution_count": 5,
   "metadata": {},
   "outputs": [],
   "source": [
    "def m_alea(N):\n",
    "    u =np.random.uniform(0,2/np.pi,N)#esto es por un ciclo completo 2pi\n",
    "    y=list(map(lambda x: (1/np.pi)*np.arccos(1-np.pi*u[x]),range(N)))\n",
    "    return y"
   ]
  },
  {
   "cell_type": "code",
   "execution_count": 6,
   "metadata": {},
   "outputs": [
    {
     "data": {
      "image/png": "[encoded data removed]",
      "text/plain": [
       "<Figure size 432x288 with 1 Axes>"
      ]
     },
     "metadata": {
      "needs_background": "light"
     },
     "output_type": "display_data"
    }
   ],
   "source": [
    "N = 10**4\n",
    "def plot_hist(N):\n",
    "    r1=m_alea(N)\n",
    "    y,x,_=plt.hist(r1, bins=50,density=True)\n",
    "    y2 =  (np.pi*np.sin(np.pi*x))/2 #-(1/np.pi)*(np.cos(np.pi*x))+(1/np.pi)\n",
    "    plt.plot(x,y2,'r-')\n",
    "    plt.show()                    #(1/np.pi)*np.arccos(1-np.pi*u[x]),range(N)))\n",
    "\n",
    "plot_hist(N)"
   ]
  },
  {
   "cell_type": "markdown",
   "metadata": {},
   "source": [
    "ya hice la grafica del punto 3 marilu "
   ]
  },
  {
   "cell_type": "code",
   "execution_count": null,
   "metadata": {},
   "outputs": [],
   "source": [
    "# Validación del método\n",
    "N = 200 # número de puntos a simular\n",
    "# Como estoy tomando t(x) constante solo es necesario generar valores aleatorios U~(0,1)\n",
    "R2 = np.random.rand(N)\n",
    "R1 = np.random.rand(N)\n",
    "\n",
    "Acep_rechazo(R2,R1,f,t)"
   ]
  },
  {
   "cell_type": "code",
   "execution_count": null,
   "metadata": {},
   "outputs": [],
   "source": [
    "cambio "
   ]
  }
 ],
 "metadata": {
  "kernelspec": {
   "display_name": "Python 3",
   "language": "python",
   "name": "python3"
  },
  "language_info": {
   "codemirror_mode": {
    "name": "ipython",
    "version": 3
   },
   "file_extension": ".py",
   "mimetype": "text/x-python",
   "name": "python",
   "nbconvert_exporter": "python",
   "pygments_lexer": "ipython3",
   "version": "3.6.5"
  }
 },
 "nbformat": 4,
 "nbformat_minor": 2
}
